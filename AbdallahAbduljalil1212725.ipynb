{
 "cells": [
  {
   "cell_type": "markdown",
   "id": "421e0e20-b882-41aa-99cb-6eaed66845f0",
   "metadata": {},
   "source": [
    "# COMP4381 - Data Science - Assignment 1 #"
   ]
  },
  {
   "cell_type": "markdown",
   "id": "8b577224-a719-44df-9174-0b44c7670477",
   "metadata": {},
   "source": [
    "This is the first indivisual assignment in Data Science Course in Birzeit University.\n",
    "\n",
    "Prepared By: **Abdallah Abduljalil** at 8th, Apr 2025"
   ]
  },
  {
   "cell_type": "code",
   "execution_count": 2,
   "id": "15bbbe65-6bab-4000-bccf-a7fcb8cfcfbe",
   "metadata": {},
   "outputs": [],
   "source": [
    "import pandas as pd"
   ]
  },
  {
   "cell_type": "markdown",
   "id": "2802b088-fd7b-44fb-a9c0-e39dc416cc06",
   "metadata": {},
   "source": [
    "## 1. Loading and Initial Exploration ##"
   ]
  },
  {
   "cell_type": "markdown",
   "id": "8b0c0d85-a85c-46f3-9e70-cadc229b0c43",
   "metadata": {},
   "source": [
    "### 1.1 Load the dataset into a pandas DataFrame. ###"
   ]
  },
  {
   "cell_type": "code",
   "execution_count": 6,
   "id": "66aadfd3-29d5-4c56-ab3c-ca3e6b8d39f2",
   "metadata": {},
   "outputs": [],
   "source": [
    "df = pd.read_csv(\"./googleplaystore.csv\")"
   ]
  },
  {
   "cell_type": "markdown",
   "id": "08f0fbd2-1549-4d07-aa48-a66c8062c382",
   "metadata": {},
   "source": [
    "### 1.2 Display the first 6 rows and the last 6 rows. ###"
   ]
  },
  {
   "cell_type": "markdown",
   "id": "5ee24cd9-9f5a-4a68-bfd9-304a7939d42f",
   "metadata": {},
   "source": [
    "We can display the first or last n number or rows in a dataset using the head(n) and tail(n), respectfully."
   ]
  },
  {
   "cell_type": "code",
   "execution_count": 10,
   "id": "b4b033b2-0c19-459f-9d20-8f49c0a33ec3",
   "metadata": {},
   "outputs": [
    {
     "data": {
      "text/html": [
       "<div>\n",
       "<style scoped>\n",
       "    .dataframe tbody tr th:only-of-type {\n",
       "        vertical-align: middle;\n",
       "    }\n",
       "\n",
       "    .dataframe tbody tr th {\n",
       "        vertical-align: top;\n",
       "    }\n",
       "\n",
       "    .dataframe thead th {\n",
       "        text-align: right;\n",
       "    }\n",
       "</style>\n",
       "<table border=\"1\" class=\"dataframe\">\n",
       "  <thead>\n",
       "    <tr style=\"text-align: right;\">\n",
       "      <th></th>\n",
       "      <th>App</th>\n",
       "      <th>Category</th>\n",
       "      <th>Rating</th>\n",
       "      <th>Reviews</th>\n",
       "      <th>Size</th>\n",
       "      <th>Installs</th>\n",
       "      <th>Type</th>\n",
       "      <th>Price</th>\n",
       "      <th>Content Rating</th>\n",
       "      <th>Genres</th>\n",
       "      <th>Last Updated</th>\n",
       "      <th>Current Ver</th>\n",
       "      <th>Android Ver</th>\n",
       "    </tr>\n",
       "  </thead>\n",
       "  <tbody>\n",
       "    <tr>\n",
       "      <th>0</th>\n",
       "      <td>Photo Editor &amp; Candy Camera &amp; Grid &amp; ScrapBook</td>\n",
       "      <td>ART_AND_DESIGN</td>\n",
       "      <td>4.1</td>\n",
       "      <td>159</td>\n",
       "      <td>19M</td>\n",
       "      <td>10,000+</td>\n",
       "      <td>Free</td>\n",
       "      <td>0</td>\n",
       "      <td>Everyone</td>\n",
       "      <td>Art &amp; Design</td>\n",
       "      <td>January 7, 2018</td>\n",
       "      <td>1.0.0</td>\n",
       "      <td>4.0.3 and up</td>\n",
       "    </tr>\n",
       "    <tr>\n",
       "      <th>1</th>\n",
       "      <td>Coloring book moana</td>\n",
       "      <td>ART_AND_DESIGN</td>\n",
       "      <td>3.9</td>\n",
       "      <td>967</td>\n",
       "      <td>14M</td>\n",
       "      <td>500,000+</td>\n",
       "      <td>Free</td>\n",
       "      <td>0</td>\n",
       "      <td>Everyone</td>\n",
       "      <td>Art &amp; Design;Pretend Play</td>\n",
       "      <td>January 15, 2018</td>\n",
       "      <td>2.0.0</td>\n",
       "      <td>4.0.3 and up</td>\n",
       "    </tr>\n",
       "    <tr>\n",
       "      <th>2</th>\n",
       "      <td>U Launcher Lite – FREE Live Cool Themes, Hide ...</td>\n",
       "      <td>ART_AND_DESIGN</td>\n",
       "      <td>4.7</td>\n",
       "      <td>87510</td>\n",
       "      <td>8.7M</td>\n",
       "      <td>5,000,000+</td>\n",
       "      <td>Free</td>\n",
       "      <td>0</td>\n",
       "      <td>Everyone</td>\n",
       "      <td>Art &amp; Design</td>\n",
       "      <td>August 1, 2018</td>\n",
       "      <td>1.2.4</td>\n",
       "      <td>4.0.3 and up</td>\n",
       "    </tr>\n",
       "    <tr>\n",
       "      <th>3</th>\n",
       "      <td>Sketch - Draw &amp; Paint</td>\n",
       "      <td>ART_AND_DESIGN</td>\n",
       "      <td>4.5</td>\n",
       "      <td>215644</td>\n",
       "      <td>25M</td>\n",
       "      <td>50,000,000+</td>\n",
       "      <td>Free</td>\n",
       "      <td>0</td>\n",
       "      <td>Teen</td>\n",
       "      <td>Art &amp; Design</td>\n",
       "      <td>June 8, 2018</td>\n",
       "      <td>Varies with device</td>\n",
       "      <td>4.2 and up</td>\n",
       "    </tr>\n",
       "    <tr>\n",
       "      <th>4</th>\n",
       "      <td>Pixel Draw - Number Art Coloring Book</td>\n",
       "      <td>ART_AND_DESIGN</td>\n",
       "      <td>4.3</td>\n",
       "      <td>967</td>\n",
       "      <td>2.8M</td>\n",
       "      <td>100,000+</td>\n",
       "      <td>Free</td>\n",
       "      <td>0</td>\n",
       "      <td>Everyone</td>\n",
       "      <td>Art &amp; Design;Creativity</td>\n",
       "      <td>June 20, 2018</td>\n",
       "      <td>1.1</td>\n",
       "      <td>4.4 and up</td>\n",
       "    </tr>\n",
       "    <tr>\n",
       "      <th>5</th>\n",
       "      <td>Paper flowers instructions</td>\n",
       "      <td>ART_AND_DESIGN</td>\n",
       "      <td>4.4</td>\n",
       "      <td>167</td>\n",
       "      <td>5.6M</td>\n",
       "      <td>50,000+</td>\n",
       "      <td>Free</td>\n",
       "      <td>0</td>\n",
       "      <td>Everyone</td>\n",
       "      <td>Art &amp; Design</td>\n",
       "      <td>March 26, 2017</td>\n",
       "      <td>1.0</td>\n",
       "      <td>2.3 and up</td>\n",
       "    </tr>\n",
       "  </tbody>\n",
       "</table>\n",
       "</div>"
      ],
      "text/plain": [
       "                                                 App        Category  Rating  \\\n",
       "0     Photo Editor & Candy Camera & Grid & ScrapBook  ART_AND_DESIGN     4.1   \n",
       "1                                Coloring book moana  ART_AND_DESIGN     3.9   \n",
       "2  U Launcher Lite – FREE Live Cool Themes, Hide ...  ART_AND_DESIGN     4.7   \n",
       "3                              Sketch - Draw & Paint  ART_AND_DESIGN     4.5   \n",
       "4              Pixel Draw - Number Art Coloring Book  ART_AND_DESIGN     4.3   \n",
       "5                         Paper flowers instructions  ART_AND_DESIGN     4.4   \n",
       "\n",
       "  Reviews  Size     Installs  Type Price Content Rating  \\\n",
       "0     159   19M      10,000+  Free     0       Everyone   \n",
       "1     967   14M     500,000+  Free     0       Everyone   \n",
       "2   87510  8.7M   5,000,000+  Free     0       Everyone   \n",
       "3  215644   25M  50,000,000+  Free     0           Teen   \n",
       "4     967  2.8M     100,000+  Free     0       Everyone   \n",
       "5     167  5.6M      50,000+  Free     0       Everyone   \n",
       "\n",
       "                      Genres      Last Updated         Current Ver  \\\n",
       "0               Art & Design   January 7, 2018               1.0.0   \n",
       "1  Art & Design;Pretend Play  January 15, 2018               2.0.0   \n",
       "2               Art & Design    August 1, 2018               1.2.4   \n",
       "3               Art & Design      June 8, 2018  Varies with device   \n",
       "4    Art & Design;Creativity     June 20, 2018                 1.1   \n",
       "5               Art & Design    March 26, 2017                 1.0   \n",
       "\n",
       "    Android Ver  \n",
       "0  4.0.3 and up  \n",
       "1  4.0.3 and up  \n",
       "2  4.0.3 and up  \n",
       "3    4.2 and up  \n",
       "4    4.4 and up  \n",
       "5    2.3 and up  "
      ]
     },
     "execution_count": 10,
     "metadata": {},
     "output_type": "execute_result"
    }
   ],
   "source": [
    "df.head(6)"
   ]
  },
  {
   "cell_type": "code",
   "execution_count": 12,
   "id": "73baebdf-6475-4e67-8dcf-9492cff6c8f6",
   "metadata": {},
   "outputs": [
    {
     "data": {
      "text/html": [
       "<div>\n",
       "<style scoped>\n",
       "    .dataframe tbody tr th:only-of-type {\n",
       "        vertical-align: middle;\n",
       "    }\n",
       "\n",
       "    .dataframe tbody tr th {\n",
       "        vertical-align: top;\n",
       "    }\n",
       "\n",
       "    .dataframe thead th {\n",
       "        text-align: right;\n",
       "    }\n",
       "</style>\n",
       "<table border=\"1\" class=\"dataframe\">\n",
       "  <thead>\n",
       "    <tr style=\"text-align: right;\">\n",
       "      <th></th>\n",
       "      <th>App</th>\n",
       "      <th>Category</th>\n",
       "      <th>Rating</th>\n",
       "      <th>Reviews</th>\n",
       "      <th>Size</th>\n",
       "      <th>Installs</th>\n",
       "      <th>Type</th>\n",
       "      <th>Price</th>\n",
       "      <th>Content Rating</th>\n",
       "      <th>Genres</th>\n",
       "      <th>Last Updated</th>\n",
       "      <th>Current Ver</th>\n",
       "      <th>Android Ver</th>\n",
       "    </tr>\n",
       "  </thead>\n",
       "  <tbody>\n",
       "    <tr>\n",
       "      <th>10835</th>\n",
       "      <td>FR Forms</td>\n",
       "      <td>BUSINESS</td>\n",
       "      <td>NaN</td>\n",
       "      <td>0</td>\n",
       "      <td>9.6M</td>\n",
       "      <td>10+</td>\n",
       "      <td>Free</td>\n",
       "      <td>0</td>\n",
       "      <td>Everyone</td>\n",
       "      <td>Business</td>\n",
       "      <td>September 29, 2016</td>\n",
       "      <td>1.1.5</td>\n",
       "      <td>4.0 and up</td>\n",
       "    </tr>\n",
       "    <tr>\n",
       "      <th>10836</th>\n",
       "      <td>Sya9a Maroc - FR</td>\n",
       "      <td>FAMILY</td>\n",
       "      <td>4.5</td>\n",
       "      <td>38</td>\n",
       "      <td>53M</td>\n",
       "      <td>5,000+</td>\n",
       "      <td>Free</td>\n",
       "      <td>0</td>\n",
       "      <td>Everyone</td>\n",
       "      <td>Education</td>\n",
       "      <td>July 25, 2017</td>\n",
       "      <td>1.48</td>\n",
       "      <td>4.1 and up</td>\n",
       "    </tr>\n",
       "    <tr>\n",
       "      <th>10837</th>\n",
       "      <td>Fr. Mike Schmitz Audio Teachings</td>\n",
       "      <td>FAMILY</td>\n",
       "      <td>5.0</td>\n",
       "      <td>4</td>\n",
       "      <td>3.6M</td>\n",
       "      <td>100+</td>\n",
       "      <td>Free</td>\n",
       "      <td>0</td>\n",
       "      <td>Everyone</td>\n",
       "      <td>Education</td>\n",
       "      <td>July 6, 2018</td>\n",
       "      <td>1.0</td>\n",
       "      <td>4.1 and up</td>\n",
       "    </tr>\n",
       "    <tr>\n",
       "      <th>10838</th>\n",
       "      <td>Parkinson Exercices FR</td>\n",
       "      <td>MEDICAL</td>\n",
       "      <td>NaN</td>\n",
       "      <td>3</td>\n",
       "      <td>9.5M</td>\n",
       "      <td>1,000+</td>\n",
       "      <td>Free</td>\n",
       "      <td>0</td>\n",
       "      <td>Everyone</td>\n",
       "      <td>Medical</td>\n",
       "      <td>January 20, 2017</td>\n",
       "      <td>1.0</td>\n",
       "      <td>2.2 and up</td>\n",
       "    </tr>\n",
       "    <tr>\n",
       "      <th>10839</th>\n",
       "      <td>The SCP Foundation DB fr nn5n</td>\n",
       "      <td>BOOKS_AND_REFERENCE</td>\n",
       "      <td>4.5</td>\n",
       "      <td>114</td>\n",
       "      <td>Varies with device</td>\n",
       "      <td>1,000+</td>\n",
       "      <td>Free</td>\n",
       "      <td>0</td>\n",
       "      <td>Mature 17+</td>\n",
       "      <td>Books &amp; Reference</td>\n",
       "      <td>January 19, 2015</td>\n",
       "      <td>Varies with device</td>\n",
       "      <td>Varies with device</td>\n",
       "    </tr>\n",
       "    <tr>\n",
       "      <th>10840</th>\n",
       "      <td>iHoroscope - 2018 Daily Horoscope &amp; Astrology</td>\n",
       "      <td>LIFESTYLE</td>\n",
       "      <td>4.5</td>\n",
       "      <td>398307</td>\n",
       "      <td>19M</td>\n",
       "      <td>10,000,000+</td>\n",
       "      <td>Free</td>\n",
       "      <td>0</td>\n",
       "      <td>Everyone</td>\n",
       "      <td>Lifestyle</td>\n",
       "      <td>July 25, 2018</td>\n",
       "      <td>Varies with device</td>\n",
       "      <td>Varies with device</td>\n",
       "    </tr>\n",
       "  </tbody>\n",
       "</table>\n",
       "</div>"
      ],
      "text/plain": [
       "                                                 App             Category  \\\n",
       "10835                                       FR Forms             BUSINESS   \n",
       "10836                               Sya9a Maroc - FR               FAMILY   \n",
       "10837               Fr. Mike Schmitz Audio Teachings               FAMILY   \n",
       "10838                         Parkinson Exercices FR              MEDICAL   \n",
       "10839                  The SCP Foundation DB fr nn5n  BOOKS_AND_REFERENCE   \n",
       "10840  iHoroscope - 2018 Daily Horoscope & Astrology            LIFESTYLE   \n",
       "\n",
       "       Rating Reviews                Size     Installs  Type Price  \\\n",
       "10835     NaN       0                9.6M          10+  Free     0   \n",
       "10836     4.5      38                 53M       5,000+  Free     0   \n",
       "10837     5.0       4                3.6M         100+  Free     0   \n",
       "10838     NaN       3                9.5M       1,000+  Free     0   \n",
       "10839     4.5     114  Varies with device       1,000+  Free     0   \n",
       "10840     4.5  398307                 19M  10,000,000+  Free     0   \n",
       "\n",
       "      Content Rating             Genres        Last Updated  \\\n",
       "10835       Everyone           Business  September 29, 2016   \n",
       "10836       Everyone          Education       July 25, 2017   \n",
       "10837       Everyone          Education        July 6, 2018   \n",
       "10838       Everyone            Medical    January 20, 2017   \n",
       "10839     Mature 17+  Books & Reference    January 19, 2015   \n",
       "10840       Everyone          Lifestyle       July 25, 2018   \n",
       "\n",
       "              Current Ver         Android Ver  \n",
       "10835               1.1.5          4.0 and up  \n",
       "10836                1.48          4.1 and up  \n",
       "10837                 1.0          4.1 and up  \n",
       "10838                 1.0          2.2 and up  \n",
       "10839  Varies with device  Varies with device  \n",
       "10840  Varies with device  Varies with device  "
      ]
     },
     "execution_count": 12,
     "metadata": {},
     "output_type": "execute_result"
    }
   ],
   "source": [
    "df.tail(6)"
   ]
  },
  {
   "cell_type": "markdown",
   "id": "ab2f8ab0-3013-4f8e-8164-0a02b773e421",
   "metadata": {},
   "source": [
    "### 1.3 Show the shape of the dataset (number of rows and columns). ###"
   ]
  },
  {
   "cell_type": "markdown",
   "id": "93287bbb-b8c1-47ca-aa50-7546ac6199ca",
   "metadata": {},
   "source": [
    "We can figure out what the shape of a dataset using the shape attripute."
   ]
  },
  {
   "cell_type": "code",
   "execution_count": 16,
   "id": "2aae2752-ffb9-4926-8c4e-c4235fdc912e",
   "metadata": {},
   "outputs": [
    {
     "data": {
      "text/plain": [
       "(10841, 13)"
      ]
     },
     "execution_count": 16,
     "metadata": {},
     "output_type": "execute_result"
    }
   ],
   "source": [
    "df.shape"
   ]
  },
  {
   "cell_type": "markdown",
   "id": "ce6a210a-7622-4591-a3e2-a04ad5ee82aa",
   "metadata": {},
   "source": [
    "This could insigt us that this dataset contain 10841 rows and 13 columns."
   ]
  },
  {
   "cell_type": "markdown",
   "id": "ffc551c4-682d-4166-aedd-541f77b0deaa",
   "metadata": {},
   "source": [
    "### 1.4 Generate descriptive statistics for numerical columns (e.g., Rating, Reviews, Installs)  with interpretation. ###"
   ]
  },
  {
   "cell_type": "markdown",
   "id": "ca060570-b2b4-4cbd-a5e9-1121df62862e",
   "metadata": {},
   "source": [
    "We can achieve a descriptive statistics for nummerical by using the df.descrribe() method."
   ]
  },
  {
   "cell_type": "code",
   "execution_count": 21,
   "id": "4e9af4c7-c3e1-44d4-af50-5aab72d05f92",
   "metadata": {},
   "outputs": [
    {
     "data": {
      "text/html": [
       "<div>\n",
       "<style scoped>\n",
       "    .dataframe tbody tr th:only-of-type {\n",
       "        vertical-align: middle;\n",
       "    }\n",
       "\n",
       "    .dataframe tbody tr th {\n",
       "        vertical-align: top;\n",
       "    }\n",
       "\n",
       "    .dataframe thead th {\n",
       "        text-align: right;\n",
       "    }\n",
       "</style>\n",
       "<table border=\"1\" class=\"dataframe\">\n",
       "  <thead>\n",
       "    <tr style=\"text-align: right;\">\n",
       "      <th></th>\n",
       "      <th>Rating</th>\n",
       "    </tr>\n",
       "  </thead>\n",
       "  <tbody>\n",
       "    <tr>\n",
       "      <th>count</th>\n",
       "      <td>9367.000000</td>\n",
       "    </tr>\n",
       "    <tr>\n",
       "      <th>mean</th>\n",
       "      <td>4.193338</td>\n",
       "    </tr>\n",
       "    <tr>\n",
       "      <th>std</th>\n",
       "      <td>0.537431</td>\n",
       "    </tr>\n",
       "    <tr>\n",
       "      <th>min</th>\n",
       "      <td>1.000000</td>\n",
       "    </tr>\n",
       "    <tr>\n",
       "      <th>25%</th>\n",
       "      <td>4.000000</td>\n",
       "    </tr>\n",
       "    <tr>\n",
       "      <th>50%</th>\n",
       "      <td>4.300000</td>\n",
       "    </tr>\n",
       "    <tr>\n",
       "      <th>75%</th>\n",
       "      <td>4.500000</td>\n",
       "    </tr>\n",
       "    <tr>\n",
       "      <th>max</th>\n",
       "      <td>19.000000</td>\n",
       "    </tr>\n",
       "  </tbody>\n",
       "</table>\n",
       "</div>"
      ],
      "text/plain": [
       "            Rating\n",
       "count  9367.000000\n",
       "mean      4.193338\n",
       "std       0.537431\n",
       "min       1.000000\n",
       "25%       4.000000\n",
       "50%       4.300000\n",
       "75%       4.500000\n",
       "max      19.000000"
      ]
     },
     "execution_count": 21,
     "metadata": {},
     "output_type": "execute_result"
    }
   ],
   "source": [
    "df.describe()"
   ]
  },
  {
   "cell_type": "markdown",
   "id": "3e37a503-d2f0-42a0-ad6b-6efefe2366d8",
   "metadata": {},
   "source": [
    "Although the csv file contains 3 candidate numeric features (Ratings, Price and Reviews), only one of them is printed out.\n",
    "\n",
    "This probably because the other two features contains a non-expected non-numeric value which cause that the whole feature column is considered to be a column of type object rather than a type numeric."
   ]
  },
  {
   "cell_type": "markdown",
   "id": "78279816-9b9d-46a8-a504-af416c9e63d1",
   "metadata": {},
   "source": [
    "However, looking at the resulteds above, the resulted descriptive statistics for Rating feature indicated a low standard deviation value meaning that most Ratings are pointed close to the Mean.\n",
    "\n",
    "Meaning that most of the ratings are close to the average value 4.19.\n",
    "\n",
    "another insight is that the mean and median are quite the same suggesting a symmertic distribution of the data points. Also, since values of mean and median are generally high, a positive rating feedback is indicated.\n",
    "\n",
    "A minimum rating of 1 and a 25th percentile of 4.0 suggests there are some very low ratings, but they’re likely rare given the high mean and median.\n",
    "\n",
    "If Rating ranges between 1 and 5, then a maximum value of 15 is likely an outlier."
   ]
  },
  {
   "cell_type": "markdown",
   "id": "8cd8792e-e5f6-46a2-9261-18ebc4517c4b",
   "metadata": {},
   "source": [
    "## 2. Data Cleaning ##"
   ]
  },
  {
   "cell_type": "markdown",
   "id": "702f3120-924b-425f-8c04-e5c9418d3e8e",
   "metadata": {},
   "source": [
    "### 2.1 Print the data types of all columns and check the ability to have null values. ###"
   ]
  },
  {
   "cell_type": "code",
   "execution_count": 27,
   "id": "70c78403-8106-4c76-967d-840fb8b2836d",
   "metadata": {},
   "outputs": [
    {
     "name": "stdout",
     "output_type": "stream",
     "text": [
      "<class 'pandas.core.frame.DataFrame'>\n",
      "RangeIndex: 10841 entries, 0 to 10840\n",
      "Data columns (total 13 columns):\n",
      " #   Column          Non-Null Count  Dtype  \n",
      "---  ------          --------------  -----  \n",
      " 0   App             10841 non-null  object \n",
      " 1   Category        10841 non-null  object \n",
      " 2   Rating          9367 non-null   float64\n",
      " 3   Reviews         10841 non-null  object \n",
      " 4   Size            10841 non-null  object \n",
      " 5   Installs        10841 non-null  object \n",
      " 6   Type            10840 non-null  object \n",
      " 7   Price           10841 non-null  object \n",
      " 8   Content Rating  10840 non-null  object \n",
      " 9   Genres          10841 non-null  object \n",
      " 10  Last Updated    10841 non-null  object \n",
      " 11  Current Ver     10833 non-null  object \n",
      " 12  Android Ver     10838 non-null  object \n",
      "dtypes: float64(1), object(12)\n",
      "memory usage: 1.1+ MB\n"
     ]
    }
   ],
   "source": [
    "df.info()"
   ]
  },
  {
   "cell_type": "markdown",
   "id": "d9ebcbb8-3b77-4658-aea9-f32c96360998",
   "metadata": {},
   "source": [
    "Since we have a number 10841 of apps (data points), the following features could have null values snice they differ from the expected number:\n",
    "\n",
    "1. Rating feature has **1474** null values (9367 non-null) : indicates the possibility of having high number of missing values in this feature.\n",
    "2. Type feature has **1** null value (10840 non-null) : a singe null value will not cause a big problem, we could drop the whole row in this case.\n",
    "3. Content Rating feature has **1** null value (10840 non-null) : same as 2, a single null value would not cause a big deal. we could also drop it.\n",
    "4. Current Ver feature has **8** null value (10833 non-null) : slightly small number of missing values compared to the full whole number of rows. Rows Deleting might be the best way to handle these values.\n",
    "6. Android Ver feature has **3** null value (10838 non-null) : same as 4, slightly small number of missing values compared to the full whole number of rows."
   ]
  },
  {
   "cell_type": "markdown",
   "id": "9506bf6b-d660-4514-b1d2-b88f938fbcdd",
   "metadata": {},
   "source": [
    "**Important Note**: For feature (Current Ver), a practical and great method to deal with null values could be using **Impulation** (using algorithms to estimate missing values based on other data points). This is because a feature such as Installs and Price could insight us what version that app is (a low number of installs might leas to a lower version of the app (a new application) and free apps mights conclude us that an app might be in his initial versions before becoming paid)."
   ]
  },
  {
   "cell_type": "markdown",
   "id": "1c68d8da-9bb1-4c55-893f-35667b995493",
   "metadata": {},
   "source": [
    "### 2.2 Drop rows where Type (Free/Paid) is missing. ###"
   ]
  },
  {
   "cell_type": "markdown",
   "id": "d0e925fd-4d5d-479e-a037-e579f15f60f0",
   "metadata": {},
   "source": [
    "We can achieve this task by using the dropna() method."
   ]
  },
  {
   "cell_type": "code",
   "execution_count": 37,
   "id": "5a6935fd-1a9a-4412-9506-ffe323350285",
   "metadata": {},
   "outputs": [],
   "source": [
    "df.dropna(subset=['Type'], inplace = True)"
   ]
  },
  {
   "cell_type": "code",
   "execution_count": 39,
   "id": "471ecdf0-8445-4ee9-a727-d1f2175934ba",
   "metadata": {},
   "outputs": [],
   "source": [
    "df = df.reset_index()"
   ]
  },
  {
   "cell_type": "markdown",
   "id": "088067d7-c323-4fda-8dfb-1fd5ce3e9328",
   "metadata": {},
   "source": [
    "Whenever we drop a row in a dataset, it is a good practice to reset indices. This is because the original index values of the remaining rows stay the same, which means they can become non-sequential or have gaps. Also, reset_index is a good practice to make if we want to avoid confusion when iterating or displaying the data."
   ]
  },
  {
   "cell_type": "code",
   "execution_count": 44,
   "id": "93287d42-6bf8-4438-8191-ea3c611b3284",
   "metadata": {},
   "outputs": [
    {
     "name": "stdout",
     "output_type": "stream",
     "text": [
      "<class 'pandas.core.frame.DataFrame'>\n",
      "RangeIndex: 10840 entries, 0 to 10839\n",
      "Data columns (total 14 columns):\n",
      " #   Column          Non-Null Count  Dtype  \n",
      "---  ------          --------------  -----  \n",
      " 0   index           10840 non-null  int64  \n",
      " 1   App             10840 non-null  object \n",
      " 2   Category        10840 non-null  object \n",
      " 3   Rating          9367 non-null   float64\n",
      " 4   Reviews         10840 non-null  object \n",
      " 5   Size            10840 non-null  object \n",
      " 6   Installs        10840 non-null  object \n",
      " 7   Type            10840 non-null  object \n",
      " 8   Price           10840 non-null  object \n",
      " 9   Content Rating  10839 non-null  object \n",
      " 10  Genres          10840 non-null  object \n",
      " 11  Last Updated    10840 non-null  object \n",
      " 12  Current Ver     10832 non-null  object \n",
      " 13  Android Ver     10837 non-null  object \n",
      "dtypes: float64(1), int64(1), object(12)\n",
      "memory usage: 1.2+ MB\n"
     ]
    }
   ],
   "source": [
    "df.info()"
   ]
  },
  {
   "cell_type": "markdown",
   "id": "a90f04e4-d1a7-4cb1-b0b5-48ff9995a952",
   "metadata": {},
   "source": [
    "We could notice that the \"Type\" feature now has no non-null value."
   ]
  },
  {
   "cell_type": "markdown",
   "id": "64d32418-e91f-4d3b-b490-4b5c83967e71",
   "metadata": {},
   "source": [
    "### 2.3 For the Rating column, fill missing values with the median rating of the same app category. Explain why you chose the median. ###"
   ]
  },
  {
   "cell_type": "code",
   "execution_count": 37,
   "id": "6d7a4d6d-d2f3-478a-bcec-16071940a808",
   "metadata": {},
   "outputs": [],
   "source": [
    "df['Rating'] = df.groupby('Category')['Rating'].transform(\n",
    "    lambda x: x.fillna(x.median())\n",
    ")"
   ]
  },
  {
   "cell_type": "code",
   "execution_count": 39,
   "id": "d7aac0e1-074d-4dc8-b166-6b74bb9fcced",
   "metadata": {},
   "outputs": [
    {
     "name": "stdout",
     "output_type": "stream",
     "text": [
      "<class 'pandas.core.frame.DataFrame'>\n",
      "RangeIndex: 10840 entries, 0 to 10839\n",
      "Data columns (total 14 columns):\n",
      " #   Column          Non-Null Count  Dtype  \n",
      "---  ------          --------------  -----  \n",
      " 0   index           10840 non-null  int64  \n",
      " 1   App             10840 non-null  object \n",
      " 2   Category        10840 non-null  object \n",
      " 3   Rating          10840 non-null  float64\n",
      " 4   Reviews         10840 non-null  object \n",
      " 5   Size            10840 non-null  object \n",
      " 6   Installs        10840 non-null  object \n",
      " 7   Type            10840 non-null  object \n",
      " 8   Price           10840 non-null  object \n",
      " 9   Content Rating  10839 non-null  object \n",
      " 10  Genres          10840 non-null  object \n",
      " 11  Last Updated    10840 non-null  object \n",
      " 12  Current Ver     10832 non-null  object \n",
      " 13  Android Ver     10837 non-null  object \n",
      "dtypes: float64(1), int64(1), object(12)\n",
      "memory usage: 1.2+ MB\n"
     ]
    }
   ],
   "source": [
    "df.info()"
   ]
  },
  {
   "cell_type": "markdown",
   "id": "9147c288-09f6-4f62-b83f-c32204c56c5b",
   "metadata": {},
   "source": [
    "To explain why we have used median to fill the null values of Ratings, we need to remember that the maximum value in this feature is 19 which might be an outlier. These outliers and extreme values usually affects the value of the **mean** while the median is not affected by any of them.\n",
    "\n",
    "In general, we usually use the median to fill null values of a feature when this feature is skewed to the left or right (in these cases mean is not a good choice)"
   ]
  },
  {
   "cell_type": "markdown",
   "id": "53e46727-3d41-44ce-bba7-3799058e1c99",
   "metadata": {},
   "source": [
    "### 2.4 Convert the Installs column to a numeric type (remove commas and \"+\", e.g., \"1,000,000+\" → 1000000). ###"
   ]
  },
  {
   "cell_type": "code",
   "execution_count": 51,
   "id": "55d29cf7-9245-4071-838b-95fead691ce8",
   "metadata": {},
   "outputs": [
    {
     "ename": "ValueError",
     "evalue": "Unable to parse string \"Free\" at position 10471",
     "output_type": "error",
     "traceback": [
      "\u001b[1;31m---------------------------------------------------------------------------\u001b[0m",
      "\u001b[1;31mValueError\u001b[0m                                Traceback (most recent call last)",
      "File \u001b[1;32mlib.pyx:2391\u001b[0m, in \u001b[0;36mpandas._libs.lib.maybe_convert_numeric\u001b[1;34m()\u001b[0m\n",
      "\u001b[1;31mValueError\u001b[0m: Unable to parse string \"Free\"",
      "\nDuring handling of the above exception, another exception occurred:\n",
      "\u001b[1;31mValueError\u001b[0m                                Traceback (most recent call last)",
      "Cell \u001b[1;32mIn[51], line 2\u001b[0m\n\u001b[0;32m      1\u001b[0m df[\u001b[38;5;124m\"\u001b[39m\u001b[38;5;124mInstalls\u001b[39m\u001b[38;5;124m\"\u001b[39m] \u001b[38;5;241m=\u001b[39m df[\u001b[38;5;124m\"\u001b[39m\u001b[38;5;124mInstalls\u001b[39m\u001b[38;5;124m\"\u001b[39m]\u001b[38;5;241m.\u001b[39mstr\u001b[38;5;241m.\u001b[39mreplace(\u001b[38;5;124m'\u001b[39m\u001b[38;5;124m[,+]\u001b[39m\u001b[38;5;124m'\u001b[39m, \u001b[38;5;124m'\u001b[39m\u001b[38;5;124m'\u001b[39m, regex\u001b[38;5;241m=\u001b[39m\u001b[38;5;28;01mTrue\u001b[39;00m)\n\u001b[1;32m----> 2\u001b[0m df[\u001b[38;5;124m\"\u001b[39m\u001b[38;5;124mInstalls\u001b[39m\u001b[38;5;124m\"\u001b[39m] \u001b[38;5;241m=\u001b[39m pd\u001b[38;5;241m.\u001b[39mto_numeric(df[\u001b[38;5;124m\"\u001b[39m\u001b[38;5;124mInstalls\u001b[39m\u001b[38;5;124m\"\u001b[39m])\n",
      "File \u001b[1;32m~\\anaconda3\\Lib\\site-packages\\pandas\\core\\tools\\numeric.py:232\u001b[0m, in \u001b[0;36mto_numeric\u001b[1;34m(arg, errors, downcast, dtype_backend)\u001b[0m\n\u001b[0;32m    230\u001b[0m coerce_numeric \u001b[38;5;241m=\u001b[39m errors \u001b[38;5;129;01mnot\u001b[39;00m \u001b[38;5;129;01min\u001b[39;00m (\u001b[38;5;124m\"\u001b[39m\u001b[38;5;124mignore\u001b[39m\u001b[38;5;124m\"\u001b[39m, \u001b[38;5;124m\"\u001b[39m\u001b[38;5;124mraise\u001b[39m\u001b[38;5;124m\"\u001b[39m)\n\u001b[0;32m    231\u001b[0m \u001b[38;5;28;01mtry\u001b[39;00m:\n\u001b[1;32m--> 232\u001b[0m     values, new_mask \u001b[38;5;241m=\u001b[39m lib\u001b[38;5;241m.\u001b[39mmaybe_convert_numeric(  \u001b[38;5;66;03m# type: ignore[call-overload]\u001b[39;00m\n\u001b[0;32m    233\u001b[0m         values,\n\u001b[0;32m    234\u001b[0m         \u001b[38;5;28mset\u001b[39m(),\n\u001b[0;32m    235\u001b[0m         coerce_numeric\u001b[38;5;241m=\u001b[39mcoerce_numeric,\n\u001b[0;32m    236\u001b[0m         convert_to_masked_nullable\u001b[38;5;241m=\u001b[39mdtype_backend \u001b[38;5;129;01mis\u001b[39;00m \u001b[38;5;129;01mnot\u001b[39;00m lib\u001b[38;5;241m.\u001b[39mno_default\n\u001b[0;32m    237\u001b[0m         \u001b[38;5;129;01mor\u001b[39;00m \u001b[38;5;28misinstance\u001b[39m(values_dtype, StringDtype)\n\u001b[0;32m    238\u001b[0m         \u001b[38;5;129;01mand\u001b[39;00m \u001b[38;5;129;01mnot\u001b[39;00m values_dtype\u001b[38;5;241m.\u001b[39mstorage \u001b[38;5;241m==\u001b[39m \u001b[38;5;124m\"\u001b[39m\u001b[38;5;124mpyarrow_numpy\u001b[39m\u001b[38;5;124m\"\u001b[39m,\n\u001b[0;32m    239\u001b[0m     )\n\u001b[0;32m    240\u001b[0m \u001b[38;5;28;01mexcept\u001b[39;00m (\u001b[38;5;167;01mValueError\u001b[39;00m, \u001b[38;5;167;01mTypeError\u001b[39;00m):\n\u001b[0;32m    241\u001b[0m     \u001b[38;5;28;01mif\u001b[39;00m errors \u001b[38;5;241m==\u001b[39m \u001b[38;5;124m\"\u001b[39m\u001b[38;5;124mraise\u001b[39m\u001b[38;5;124m\"\u001b[39m:\n",
      "File \u001b[1;32mlib.pyx:2433\u001b[0m, in \u001b[0;36mpandas._libs.lib.maybe_convert_numeric\u001b[1;34m()\u001b[0m\n",
      "\u001b[1;31mValueError\u001b[0m: Unable to parse string \"Free\" at position 10471"
     ]
    }
   ],
   "source": [
    "df[\"Installs\"] = df[\"Installs\"].str.replace('[,+]', '', regex=True)\n",
    "df[\"Installs\"] = pd.to_numeric(df[\"Installs\"])"
   ]
  },
  {
   "cell_type": "markdown",
   "id": "3c68a313-f7b2-432b-9678-071484285863",
   "metadata": {},
   "source": [
    "An error has occured because a value at index 10471 a string \"Free\", not a number."
   ]
  },
  {
   "cell_type": "code",
   "execution_count": 44,
   "id": "f37753ed-cbdd-4f99-8074-8e7856c1e319",
   "metadata": {},
   "outputs": [
    {
     "data": {
      "text/plain": [
       "index                                               10472\n",
       "App               Life Made WI-Fi Touchscreen Photo Frame\n",
       "Category                                              1.9\n",
       "Rating                                               19.0\n",
       "Reviews                                              3.0M\n",
       "Size                                               1,000+\n",
       "Installs                                             Free\n",
       "Type                                                    0\n",
       "Price                                            Everyone\n",
       "Content Rating                                        NaN\n",
       "Genres                                  February 11, 2018\n",
       "Last Updated                                       1.0.19\n",
       "Current Ver                                    4.0 and up\n",
       "Android Ver                                           NaN\n",
       "Name: 10471, dtype: object"
      ]
     },
     "execution_count": 44,
     "metadata": {},
     "output_type": "execute_result"
    }
   ],
   "source": [
    "df.iloc[10471]"
   ]
  },
  {
   "cell_type": "markdown",
   "id": "0bc75943-afbb-4935-9720-2fba3f38f67d",
   "metadata": {},
   "source": [
    "We could notice that this row's values is shifted to the left (a value of \"Free\" should be assigned to feature **Type** not **Installs**, for example).\n",
    "\n",
    "A good and effective way to deal with this problem is to drop this row."
   ]
  },
  {
   "cell_type": "code",
   "execution_count": 55,
   "id": "9953a087-b2a1-47c3-b4c4-4b2952834e70",
   "metadata": {},
   "outputs": [],
   "source": [
    "df.drop(10471, inplace = True)"
   ]
  },
  {
   "cell_type": "code",
   "execution_count": 57,
   "id": "e988c7ed-4c2d-4bbe-b45d-fbc46629ac7e",
   "metadata": {},
   "outputs": [],
   "source": [
    "df[\"Installs\"] = df[\"Installs\"].str.replace('[,+]', '', regex=True)\n",
    "df[\"Installs\"] = pd.to_numeric(df[\"Installs\"])"
   ]
  },
  {
   "cell_type": "code",
   "execution_count": 64,
   "id": "3a8a0154-5dce-41e3-a50c-2018b2f22206",
   "metadata": {},
   "outputs": [
    {
     "name": "stdout",
     "output_type": "stream",
     "text": [
      "<class 'pandas.core.frame.DataFrame'>\n",
      "Index: 10839 entries, 0 to 10839\n",
      "Data columns (total 14 columns):\n",
      " #   Column          Non-Null Count  Dtype  \n",
      "---  ------          --------------  -----  \n",
      " 0   index           10839 non-null  int64  \n",
      " 1   App             10839 non-null  object \n",
      " 2   Category        10839 non-null  object \n",
      " 3   Rating          9366 non-null   float64\n",
      " 4   Reviews         10839 non-null  object \n",
      " 5   Size            10839 non-null  object \n",
      " 6   Installs        10839 non-null  int64  \n",
      " 7   Type            10839 non-null  object \n",
      " 8   Price           10839 non-null  object \n",
      " 9   Content Rating  10839 non-null  object \n",
      " 10  Genres          10839 non-null  object \n",
      " 11  Last Updated    10839 non-null  object \n",
      " 12  Current Ver     10831 non-null  object \n",
      " 13  Android Ver     10837 non-null  object \n",
      "dtypes: float64(1), int64(2), object(11)\n",
      "memory usage: 1.2+ MB\n"
     ]
    }
   ],
   "source": [
    "df.info()"
   ]
  },
  {
   "cell_type": "markdown",
   "id": "57522472-05d2-43a0-9f55-fea3a7a03add",
   "metadata": {},
   "source": [
    "Notice how Data Type of installs is now **int64**."
   ]
  },
  {
   "cell_type": "markdown",
   "id": "0f04c5a9-ee85-4a29-b203-12f3bc8f9a3b",
   "metadata": {},
   "source": [
    "### 2.5 Convert the Price column to a numeric type ($0.99 → 0.99). ###"
   ]
  },
  {
   "cell_type": "code",
   "execution_count": 68,
   "id": "46acb7e0-9723-4658-bedf-c681bfaf858a",
   "metadata": {},
   "outputs": [],
   "source": [
    "df[\"Price\"] = df[\"Price\"].str.replace('$', '')\n",
    "df[\"Price\"] = pd.to_numeric(df[\"Price\"])"
   ]
  },
  {
   "cell_type": "code",
   "execution_count": 70,
   "id": "9cf985e9-2f67-490c-a67a-2c88518dec1f",
   "metadata": {},
   "outputs": [
    {
     "name": "stdout",
     "output_type": "stream",
     "text": [
      "<class 'pandas.core.frame.DataFrame'>\n",
      "Index: 10839 entries, 0 to 10839\n",
      "Data columns (total 14 columns):\n",
      " #   Column          Non-Null Count  Dtype  \n",
      "---  ------          --------------  -----  \n",
      " 0   index           10839 non-null  int64  \n",
      " 1   App             10839 non-null  object \n",
      " 2   Category        10839 non-null  object \n",
      " 3   Rating          9366 non-null   float64\n",
      " 4   Reviews         10839 non-null  object \n",
      " 5   Size            10839 non-null  object \n",
      " 6   Installs        10839 non-null  int64  \n",
      " 7   Type            10839 non-null  object \n",
      " 8   Price           10839 non-null  float64\n",
      " 9   Content Rating  10839 non-null  object \n",
      " 10  Genres          10839 non-null  object \n",
      " 11  Last Updated    10839 non-null  object \n",
      " 12  Current Ver     10831 non-null  object \n",
      " 13  Android Ver     10837 non-null  object \n",
      "dtypes: float64(2), int64(2), object(10)\n",
      "memory usage: 1.2+ MB\n"
     ]
    }
   ],
   "source": [
    "df.info()"
   ]
  },
  {
   "cell_type": "markdown",
   "id": "8835f49f-769e-42a5-8fea-693b21c5116d",
   "metadata": {},
   "source": [
    "Notice how Data Type of Price is now **float64**."
   ]
  },
  {
   "cell_type": "markdown",
   "id": "eee8527b-f67e-49af-98c2-1fbf6612d229",
   "metadata": {},
   "source": [
    "**Very Important Note**: If we have not reset indecies back when we have dropped the rows with null type, the converting proccess will not work even when we drop row number 10471. This is because data indices would be inconsistance and would cause a lot of problem when dealing with accessing a specific row after that (such as accessing row number 10471 to delete it)."
   ]
  },
  {
   "cell_type": "markdown",
   "id": "901e0adf-5c12-4ff9-94ec-c8c600b96175",
   "metadata": {},
   "source": [
    "## 3. Data Filtering ##"
   ]
  },
  {
   "cell_type": "markdown",
   "id": "1f071fe9-42b8-4847-9121-68edfa224ace",
   "metadata": {},
   "source": [
    "### 3.1 Create a new DataFrame containing only free apps (Type = Free). ###"
   ]
  },
  {
   "cell_type": "code",
   "execution_count": 78,
   "id": "5b02fc51-ce3c-4188-a465-b02950f7aeeb",
   "metadata": {},
   "outputs": [],
   "source": [
    "df_free_apps = df[df[\"Type\"] == \"Free\"]"
   ]
  },
  {
   "cell_type": "code",
   "execution_count": 80,
   "id": "83553f71-2875-468a-b336-1a989009f558",
   "metadata": {},
   "outputs": [
    {
     "data": {
      "text/html": [
       "<div>\n",
       "<style scoped>\n",
       "    .dataframe tbody tr th:only-of-type {\n",
       "        vertical-align: middle;\n",
       "    }\n",
       "\n",
       "    .dataframe tbody tr th {\n",
       "        vertical-align: top;\n",
       "    }\n",
       "\n",
       "    .dataframe thead th {\n",
       "        text-align: right;\n",
       "    }\n",
       "</style>\n",
       "<table border=\"1\" class=\"dataframe\">\n",
       "  <thead>\n",
       "    <tr style=\"text-align: right;\">\n",
       "      <th></th>\n",
       "      <th>index</th>\n",
       "      <th>App</th>\n",
       "      <th>Category</th>\n",
       "      <th>Rating</th>\n",
       "      <th>Reviews</th>\n",
       "      <th>Size</th>\n",
       "      <th>Installs</th>\n",
       "      <th>Type</th>\n",
       "      <th>Price</th>\n",
       "      <th>Content Rating</th>\n",
       "      <th>Genres</th>\n",
       "      <th>Last Updated</th>\n",
       "      <th>Current Ver</th>\n",
       "      <th>Android Ver</th>\n",
       "    </tr>\n",
       "  </thead>\n",
       "  <tbody>\n",
       "    <tr>\n",
       "      <th>0</th>\n",
       "      <td>0</td>\n",
       "      <td>Photo Editor &amp; Candy Camera &amp; Grid &amp; ScrapBook</td>\n",
       "      <td>ART_AND_DESIGN</td>\n",
       "      <td>4.1</td>\n",
       "      <td>159</td>\n",
       "      <td>19M</td>\n",
       "      <td>10000</td>\n",
       "      <td>Free</td>\n",
       "      <td>0.0</td>\n",
       "      <td>Everyone</td>\n",
       "      <td>Art &amp; Design</td>\n",
       "      <td>January 7, 2018</td>\n",
       "      <td>1.0.0</td>\n",
       "      <td>4.0.3 and up</td>\n",
       "    </tr>\n",
       "    <tr>\n",
       "      <th>1</th>\n",
       "      <td>1</td>\n",
       "      <td>Coloring book moana</td>\n",
       "      <td>ART_AND_DESIGN</td>\n",
       "      <td>3.9</td>\n",
       "      <td>967</td>\n",
       "      <td>14M</td>\n",
       "      <td>500000</td>\n",
       "      <td>Free</td>\n",
       "      <td>0.0</td>\n",
       "      <td>Everyone</td>\n",
       "      <td>Art &amp; Design;Pretend Play</td>\n",
       "      <td>January 15, 2018</td>\n",
       "      <td>2.0.0</td>\n",
       "      <td>4.0.3 and up</td>\n",
       "    </tr>\n",
       "    <tr>\n",
       "      <th>2</th>\n",
       "      <td>2</td>\n",
       "      <td>U Launcher Lite – FREE Live Cool Themes, Hide ...</td>\n",
       "      <td>ART_AND_DESIGN</td>\n",
       "      <td>4.7</td>\n",
       "      <td>87510</td>\n",
       "      <td>8.7M</td>\n",
       "      <td>5000000</td>\n",
       "      <td>Free</td>\n",
       "      <td>0.0</td>\n",
       "      <td>Everyone</td>\n",
       "      <td>Art &amp; Design</td>\n",
       "      <td>August 1, 2018</td>\n",
       "      <td>1.2.4</td>\n",
       "      <td>4.0.3 and up</td>\n",
       "    </tr>\n",
       "    <tr>\n",
       "      <th>3</th>\n",
       "      <td>3</td>\n",
       "      <td>Sketch - Draw &amp; Paint</td>\n",
       "      <td>ART_AND_DESIGN</td>\n",
       "      <td>4.5</td>\n",
       "      <td>215644</td>\n",
       "      <td>25M</td>\n",
       "      <td>50000000</td>\n",
       "      <td>Free</td>\n",
       "      <td>0.0</td>\n",
       "      <td>Teen</td>\n",
       "      <td>Art &amp; Design</td>\n",
       "      <td>June 8, 2018</td>\n",
       "      <td>Varies with device</td>\n",
       "      <td>4.2 and up</td>\n",
       "    </tr>\n",
       "    <tr>\n",
       "      <th>4</th>\n",
       "      <td>4</td>\n",
       "      <td>Pixel Draw - Number Art Coloring Book</td>\n",
       "      <td>ART_AND_DESIGN</td>\n",
       "      <td>4.3</td>\n",
       "      <td>967</td>\n",
       "      <td>2.8M</td>\n",
       "      <td>100000</td>\n",
       "      <td>Free</td>\n",
       "      <td>0.0</td>\n",
       "      <td>Everyone</td>\n",
       "      <td>Art &amp; Design;Creativity</td>\n",
       "      <td>June 20, 2018</td>\n",
       "      <td>1.1</td>\n",
       "      <td>4.4 and up</td>\n",
       "    </tr>\n",
       "  </tbody>\n",
       "</table>\n",
       "</div>"
      ],
      "text/plain": [
       "   index                                                App        Category  \\\n",
       "0      0     Photo Editor & Candy Camera & Grid & ScrapBook  ART_AND_DESIGN   \n",
       "1      1                                Coloring book moana  ART_AND_DESIGN   \n",
       "2      2  U Launcher Lite – FREE Live Cool Themes, Hide ...  ART_AND_DESIGN   \n",
       "3      3                              Sketch - Draw & Paint  ART_AND_DESIGN   \n",
       "4      4              Pixel Draw - Number Art Coloring Book  ART_AND_DESIGN   \n",
       "\n",
       "   Rating Reviews  Size  Installs  Type  Price Content Rating  \\\n",
       "0     4.1     159   19M     10000  Free    0.0       Everyone   \n",
       "1     3.9     967   14M    500000  Free    0.0       Everyone   \n",
       "2     4.7   87510  8.7M   5000000  Free    0.0       Everyone   \n",
       "3     4.5  215644   25M  50000000  Free    0.0           Teen   \n",
       "4     4.3     967  2.8M    100000  Free    0.0       Everyone   \n",
       "\n",
       "                      Genres      Last Updated         Current Ver  \\\n",
       "0               Art & Design   January 7, 2018               1.0.0   \n",
       "1  Art & Design;Pretend Play  January 15, 2018               2.0.0   \n",
       "2               Art & Design    August 1, 2018               1.2.4   \n",
       "3               Art & Design      June 8, 2018  Varies with device   \n",
       "4    Art & Design;Creativity     June 20, 2018                 1.1   \n",
       "\n",
       "    Android Ver  \n",
       "0  4.0.3 and up  \n",
       "1  4.0.3 and up  \n",
       "2  4.0.3 and up  \n",
       "3    4.2 and up  \n",
       "4    4.4 and up  "
      ]
     },
     "execution_count": 80,
     "metadata": {},
     "output_type": "execute_result"
    }
   ],
   "source": [
    "df_free_apps.head()"
   ]
  },
  {
   "cell_type": "code",
   "execution_count": 82,
   "id": "24712ecb-96d3-4ef1-a8d8-079bc2f611f4",
   "metadata": {},
   "outputs": [
    {
     "name": "stdout",
     "output_type": "stream",
     "text": [
      "<class 'pandas.core.frame.DataFrame'>\n",
      "Index: 10039 entries, 0 to 10839\n",
      "Data columns (total 14 columns):\n",
      " #   Column          Non-Null Count  Dtype  \n",
      "---  ------          --------------  -----  \n",
      " 0   index           10039 non-null  int64  \n",
      " 1   App             10039 non-null  object \n",
      " 2   Category        10039 non-null  object \n",
      " 3   Rating          8719 non-null   float64\n",
      " 4   Reviews         10039 non-null  object \n",
      " 5   Size            10039 non-null  object \n",
      " 6   Installs        10039 non-null  int64  \n",
      " 7   Type            10039 non-null  object \n",
      " 8   Price           10039 non-null  float64\n",
      " 9   Content Rating  10039 non-null  object \n",
      " 10  Genres          10039 non-null  object \n",
      " 11  Last Updated    10039 non-null  object \n",
      " 12  Current Ver     10033 non-null  object \n",
      " 13  Android Ver     10038 non-null  object \n",
      "dtypes: float64(2), int64(2), object(10)\n",
      "memory usage: 1.1+ MB\n"
     ]
    }
   ],
   "source": [
    "df_free_apps.info()"
   ]
  },
  {
   "cell_type": "markdown",
   "id": "d50dd1dd-8d1b-4da9-b48b-c3f8c31be125",
   "metadata": {},
   "source": [
    "### 3.2 Filter apps with a rating greater than 4.5 and more than 1 million installs. ###"
   ]
  },
  {
   "cell_type": "code",
   "execution_count": 85,
   "id": "8d130353-3c21-4520-a047-6f1f70f1639f",
   "metadata": {},
   "outputs": [],
   "source": [
    "df_filtered_apps = df[(df[\"Rating\"] > 4.5) & (df[\"Installs\"] > 1000000)]"
   ]
  },
  {
   "cell_type": "code",
   "execution_count": 87,
   "id": "79ef9ff2-31e4-47d2-9938-7e458d3c2202",
   "metadata": {},
   "outputs": [
    {
     "data": {
      "text/html": [
       "<div>\n",
       "<style scoped>\n",
       "    .dataframe tbody tr th:only-of-type {\n",
       "        vertical-align: middle;\n",
       "    }\n",
       "\n",
       "    .dataframe tbody tr th {\n",
       "        vertical-align: top;\n",
       "    }\n",
       "\n",
       "    .dataframe thead th {\n",
       "        text-align: right;\n",
       "    }\n",
       "</style>\n",
       "<table border=\"1\" class=\"dataframe\">\n",
       "  <thead>\n",
       "    <tr style=\"text-align: right;\">\n",
       "      <th></th>\n",
       "      <th>index</th>\n",
       "      <th>App</th>\n",
       "      <th>Category</th>\n",
       "      <th>Rating</th>\n",
       "      <th>Reviews</th>\n",
       "      <th>Size</th>\n",
       "      <th>Installs</th>\n",
       "      <th>Type</th>\n",
       "      <th>Price</th>\n",
       "      <th>Content Rating</th>\n",
       "      <th>Genres</th>\n",
       "      <th>Last Updated</th>\n",
       "      <th>Current Ver</th>\n",
       "      <th>Android Ver</th>\n",
       "    </tr>\n",
       "  </thead>\n",
       "  <tbody>\n",
       "    <tr>\n",
       "      <th>2</th>\n",
       "      <td>2</td>\n",
       "      <td>U Launcher Lite – FREE Live Cool Themes, Hide ...</td>\n",
       "      <td>ART_AND_DESIGN</td>\n",
       "      <td>4.7</td>\n",
       "      <td>87510</td>\n",
       "      <td>8.7M</td>\n",
       "      <td>5000000</td>\n",
       "      <td>Free</td>\n",
       "      <td>0.0</td>\n",
       "      <td>Everyone</td>\n",
       "      <td>Art &amp; Design</td>\n",
       "      <td>August 1, 2018</td>\n",
       "      <td>1.2.4</td>\n",
       "      <td>4.0.3 and up</td>\n",
       "    </tr>\n",
       "    <tr>\n",
       "      <th>19</th>\n",
       "      <td>19</td>\n",
       "      <td>ibis Paint X</td>\n",
       "      <td>ART_AND_DESIGN</td>\n",
       "      <td>4.6</td>\n",
       "      <td>224399</td>\n",
       "      <td>31M</td>\n",
       "      <td>10000000</td>\n",
       "      <td>Free</td>\n",
       "      <td>0.0</td>\n",
       "      <td>Everyone</td>\n",
       "      <td>Art &amp; Design</td>\n",
       "      <td>July 30, 2018</td>\n",
       "      <td>5.5.4</td>\n",
       "      <td>4.1 and up</td>\n",
       "    </tr>\n",
       "    <tr>\n",
       "      <th>45</th>\n",
       "      <td>45</td>\n",
       "      <td>Canva: Poster, banner, card maker &amp; graphic de...</td>\n",
       "      <td>ART_AND_DESIGN</td>\n",
       "      <td>4.7</td>\n",
       "      <td>174531</td>\n",
       "      <td>24M</td>\n",
       "      <td>10000000</td>\n",
       "      <td>Free</td>\n",
       "      <td>0.0</td>\n",
       "      <td>Everyone</td>\n",
       "      <td>Art &amp; Design</td>\n",
       "      <td>July 31, 2018</td>\n",
       "      <td>1.6.1</td>\n",
       "      <td>4.1 and up</td>\n",
       "    </tr>\n",
       "    <tr>\n",
       "      <th>70</th>\n",
       "      <td>70</td>\n",
       "      <td>Fines of the State Traffic Safety Inspectorate...</td>\n",
       "      <td>AUTO_AND_VEHICLES</td>\n",
       "      <td>4.8</td>\n",
       "      <td>116986</td>\n",
       "      <td>35M</td>\n",
       "      <td>5000000</td>\n",
       "      <td>Free</td>\n",
       "      <td>0.0</td>\n",
       "      <td>Everyone</td>\n",
       "      <td>Auto &amp; Vehicles</td>\n",
       "      <td>August 2, 2018</td>\n",
       "      <td>1.9.7</td>\n",
       "      <td>4.0.3 and up</td>\n",
       "    </tr>\n",
       "    <tr>\n",
       "      <th>139</th>\n",
       "      <td>139</td>\n",
       "      <td>Wattpad 📖 Free Books</td>\n",
       "      <td>BOOKS_AND_REFERENCE</td>\n",
       "      <td>4.6</td>\n",
       "      <td>2914724</td>\n",
       "      <td>Varies with device</td>\n",
       "      <td>100000000</td>\n",
       "      <td>Free</td>\n",
       "      <td>0.0</td>\n",
       "      <td>Teen</td>\n",
       "      <td>Books &amp; Reference</td>\n",
       "      <td>August 1, 2018</td>\n",
       "      <td>Varies with device</td>\n",
       "      <td>Varies with device</td>\n",
       "    </tr>\n",
       "  </tbody>\n",
       "</table>\n",
       "</div>"
      ],
      "text/plain": [
       "     index                                                App  \\\n",
       "2        2  U Launcher Lite – FREE Live Cool Themes, Hide ...   \n",
       "19      19                                       ibis Paint X   \n",
       "45      45  Canva: Poster, banner, card maker & graphic de...   \n",
       "70      70  Fines of the State Traffic Safety Inspectorate...   \n",
       "139    139                               Wattpad 📖 Free Books   \n",
       "\n",
       "                Category  Rating  Reviews                Size   Installs  \\\n",
       "2         ART_AND_DESIGN     4.7    87510                8.7M    5000000   \n",
       "19        ART_AND_DESIGN     4.6   224399                 31M   10000000   \n",
       "45        ART_AND_DESIGN     4.7   174531                 24M   10000000   \n",
       "70     AUTO_AND_VEHICLES     4.8   116986                 35M    5000000   \n",
       "139  BOOKS_AND_REFERENCE     4.6  2914724  Varies with device  100000000   \n",
       "\n",
       "     Type  Price Content Rating             Genres    Last Updated  \\\n",
       "2    Free    0.0       Everyone       Art & Design  August 1, 2018   \n",
       "19   Free    0.0       Everyone       Art & Design   July 30, 2018   \n",
       "45   Free    0.0       Everyone       Art & Design   July 31, 2018   \n",
       "70   Free    0.0       Everyone    Auto & Vehicles  August 2, 2018   \n",
       "139  Free    0.0           Teen  Books & Reference  August 1, 2018   \n",
       "\n",
       "            Current Ver         Android Ver  \n",
       "2                 1.2.4        4.0.3 and up  \n",
       "19                5.5.4          4.1 and up  \n",
       "45                1.6.1          4.1 and up  \n",
       "70                1.9.7        4.0.3 and up  \n",
       "139  Varies with device  Varies with device  "
      ]
     },
     "execution_count": 87,
     "metadata": {},
     "output_type": "execute_result"
    }
   ],
   "source": [
    "df_filtered_apps.head()"
   ]
  },
  {
   "cell_type": "code",
   "execution_count": 89,
   "id": "33d07abd-ac06-4d1b-acd1-974b63b4d577",
   "metadata": {},
   "outputs": [
    {
     "name": "stdout",
     "output_type": "stream",
     "text": [
      "<class 'pandas.core.frame.DataFrame'>\n",
      "Index: 471 entries, 2 to 10318\n",
      "Data columns (total 14 columns):\n",
      " #   Column          Non-Null Count  Dtype  \n",
      "---  ------          --------------  -----  \n",
      " 0   index           471 non-null    int64  \n",
      " 1   App             471 non-null    object \n",
      " 2   Category        471 non-null    object \n",
      " 3   Rating          471 non-null    float64\n",
      " 4   Reviews         471 non-null    object \n",
      " 5   Size            471 non-null    object \n",
      " 6   Installs        471 non-null    int64  \n",
      " 7   Type            471 non-null    object \n",
      " 8   Price           471 non-null    float64\n",
      " 9   Content Rating  471 non-null    object \n",
      " 10  Genres          471 non-null    object \n",
      " 11  Last Updated    471 non-null    object \n",
      " 12  Current Ver     471 non-null    object \n",
      " 13  Android Ver     471 non-null    object \n",
      "dtypes: float64(2), int64(2), object(10)\n",
      "memory usage: 55.2+ KB\n"
     ]
    }
   ],
   "source": [
    "df_filtered_apps.info()"
   ]
  },
  {
   "cell_type": "markdown",
   "id": "2c813880-f896-43ba-aa9b-66163aaf480a",
   "metadata": {},
   "source": [
    "### 3.3 List the top 3 most installed apps in the \"Education\" category. Hint (case sensitive) ###"
   ]
  },
  {
   "cell_type": "markdown",
   "id": "277a8084-d67b-47a2-841d-caf156398b67",
   "metadata": {},
   "source": [
    "Since the values of Category feature are in UPPERCASE format, we could compare them to \"EDUCATION\" value. To ensure there is no other values with different format, we could convert the whole feature to lowercase strings then compare them to \"eduction\" value."
   ]
  },
  {
   "cell_type": "code",
   "execution_count": 105,
   "id": "068b5952-da51-48cc-a233-d4bdd2fed348",
   "metadata": {},
   "outputs": [],
   "source": [
    "edu_apps = df[df[\"Category\"].str.lower() == \"education\"]"
   ]
  },
  {
   "cell_type": "markdown",
   "id": "197bb1ca-2ef0-4ed3-9acc-a36ee6bd35ff",
   "metadata": {},
   "source": [
    "We could use head(3) function to get the top three most installed apps."
   ]
  },
  {
   "cell_type": "code",
   "execution_count": 110,
   "id": "49cbe660-c948-4e63-af0b-65e95ba61cca",
   "metadata": {},
   "outputs": [],
   "source": [
    "top_3_edu = edu_apps.sort_values(by='Installs', ascending=False).head(3)"
   ]
  },
  {
   "cell_type": "code",
   "execution_count": 112,
   "id": "a90c489e-1918-4ad8-80cd-ad001e82892d",
   "metadata": {},
   "outputs": [
    {
     "data": {
      "text/html": [
       "<div>\n",
       "<style scoped>\n",
       "    .dataframe tbody tr th:only-of-type {\n",
       "        vertical-align: middle;\n",
       "    }\n",
       "\n",
       "    .dataframe tbody tr th {\n",
       "        vertical-align: top;\n",
       "    }\n",
       "\n",
       "    .dataframe thead th {\n",
       "        text-align: right;\n",
       "    }\n",
       "</style>\n",
       "<table border=\"1\" class=\"dataframe\">\n",
       "  <thead>\n",
       "    <tr style=\"text-align: right;\">\n",
       "      <th></th>\n",
       "      <th>index</th>\n",
       "      <th>App</th>\n",
       "      <th>Category</th>\n",
       "      <th>Rating</th>\n",
       "      <th>Reviews</th>\n",
       "      <th>Size</th>\n",
       "      <th>Installs</th>\n",
       "      <th>Type</th>\n",
       "      <th>Price</th>\n",
       "      <th>Content Rating</th>\n",
       "      <th>Genres</th>\n",
       "      <th>Last Updated</th>\n",
       "      <th>Current Ver</th>\n",
       "      <th>Android Ver</th>\n",
       "    </tr>\n",
       "  </thead>\n",
       "  <tbody>\n",
       "    <tr>\n",
       "      <th>699</th>\n",
       "      <td>699</td>\n",
       "      <td>Duolingo: Learn Languages Free</td>\n",
       "      <td>EDUCATION</td>\n",
       "      <td>4.7</td>\n",
       "      <td>6289924</td>\n",
       "      <td>Varies with device</td>\n",
       "      <td>100000000</td>\n",
       "      <td>Free</td>\n",
       "      <td>0.0</td>\n",
       "      <td>Everyone</td>\n",
       "      <td>Education;Education</td>\n",
       "      <td>August 1, 2018</td>\n",
       "      <td>Varies with device</td>\n",
       "      <td>Varies with device</td>\n",
       "    </tr>\n",
       "    <tr>\n",
       "      <th>826</th>\n",
       "      <td>826</td>\n",
       "      <td>Duolingo: Learn Languages Free</td>\n",
       "      <td>EDUCATION</td>\n",
       "      <td>4.7</td>\n",
       "      <td>6290507</td>\n",
       "      <td>Varies with device</td>\n",
       "      <td>100000000</td>\n",
       "      <td>Free</td>\n",
       "      <td>0.0</td>\n",
       "      <td>Everyone</td>\n",
       "      <td>Education;Education</td>\n",
       "      <td>August 1, 2018</td>\n",
       "      <td>Varies with device</td>\n",
       "      <td>Varies with device</td>\n",
       "    </tr>\n",
       "    <tr>\n",
       "      <th>799</th>\n",
       "      <td>799</td>\n",
       "      <td>Duolingo: Learn Languages Free</td>\n",
       "      <td>EDUCATION</td>\n",
       "      <td>4.7</td>\n",
       "      <td>6290507</td>\n",
       "      <td>Varies with device</td>\n",
       "      <td>100000000</td>\n",
       "      <td>Free</td>\n",
       "      <td>0.0</td>\n",
       "      <td>Everyone</td>\n",
       "      <td>Education;Education</td>\n",
       "      <td>August 1, 2018</td>\n",
       "      <td>Varies with device</td>\n",
       "      <td>Varies with device</td>\n",
       "    </tr>\n",
       "  </tbody>\n",
       "</table>\n",
       "</div>"
      ],
      "text/plain": [
       "     index                             App   Category  Rating  Reviews  \\\n",
       "699    699  Duolingo: Learn Languages Free  EDUCATION     4.7  6289924   \n",
       "826    826  Duolingo: Learn Languages Free  EDUCATION     4.7  6290507   \n",
       "799    799  Duolingo: Learn Languages Free  EDUCATION     4.7  6290507   \n",
       "\n",
       "                   Size   Installs  Type  Price Content Rating  \\\n",
       "699  Varies with device  100000000  Free    0.0       Everyone   \n",
       "826  Varies with device  100000000  Free    0.0       Everyone   \n",
       "799  Varies with device  100000000  Free    0.0       Everyone   \n",
       "\n",
       "                  Genres    Last Updated         Current Ver  \\\n",
       "699  Education;Education  August 1, 2018  Varies with device   \n",
       "826  Education;Education  August 1, 2018  Varies with device   \n",
       "799  Education;Education  August 1, 2018  Varies with device   \n",
       "\n",
       "            Android Ver  \n",
       "699  Varies with device  \n",
       "826  Varies with device  \n",
       "799  Varies with device  "
      ]
     },
     "execution_count": 112,
     "metadata": {},
     "output_type": "execute_result"
    }
   ],
   "source": [
    "top_3_edu"
   ]
  },
  {
   "cell_type": "markdown",
   "id": "cac7d5f7-a92b-4c28-8b48-6e1cc7b56992",
   "metadata": {},
   "source": [
    "## 4. Grouping and Aggregation ##"
   ]
  },
  {
   "cell_type": "markdown",
   "id": "4b9df9b8-8f6f-47cd-a769-4195d40246a0",
   "metadata": {},
   "source": [
    "### 4.1 Group the data by Category and calculate the average rating for each category. ###"
   ]
  },
  {
   "cell_type": "code",
   "execution_count": 116,
   "id": "e5ede9b9-47a0-43d1-871a-433c83630963",
   "metadata": {},
   "outputs": [],
   "source": [
    "average_ratings = df.groupby(\"Category\")[\"Rating\"].mean()"
   ]
  },
  {
   "cell_type": "code",
   "execution_count": 118,
   "id": "73b07958-73cf-4c44-945b-e77ba221fa4c",
   "metadata": {},
   "outputs": [
    {
     "data": {
      "text/plain": [
       "Category\n",
       "ART_AND_DESIGN         4.358065\n",
       "AUTO_AND_VEHICLES      4.190411\n",
       "BEAUTY                 4.278571\n",
       "BOOKS_AND_REFERENCE    4.346067\n",
       "BUSINESS               4.121452\n",
       "COMICS                 4.155172\n",
       "COMMUNICATION          4.158537\n",
       "DATING                 3.970769\n",
       "EDUCATION              4.389032\n",
       "ENTERTAINMENT          4.126174\n",
       "EVENTS                 4.435556\n",
       "FAMILY                 4.192272\n",
       "FINANCE                4.131889\n",
       "FOOD_AND_DRINK         4.166972\n",
       "GAME                   4.286326\n",
       "HEALTH_AND_FITNESS     4.277104\n",
       "HOUSE_AND_HOME         4.197368\n",
       "LIBRARIES_AND_DEMO     4.178462\n",
       "LIFESTYLE              4.094904\n",
       "MAPS_AND_NAVIGATION    4.051613\n",
       "MEDICAL                4.189143\n",
       "NEWS_AND_MAGAZINES     4.132189\n",
       "PARENTING              4.300000\n",
       "PERSONALIZATION        4.335987\n",
       "PHOTOGRAPHY            4.192114\n",
       "PRODUCTIVITY           4.211396\n",
       "SHOPPING               4.259664\n",
       "SOCIAL                 4.255598\n",
       "SPORTS                 4.223511\n",
       "TOOLS                  4.047411\n",
       "TRAVEL_AND_LOCAL       4.109292\n",
       "VIDEO_PLAYERS          4.063750\n",
       "WEATHER                4.244000\n",
       "Name: Rating, dtype: float64"
      ]
     },
     "execution_count": 118,
     "metadata": {},
     "output_type": "execute_result"
    }
   ],
   "source": [
    "average_ratings"
   ]
  },
  {
   "cell_type": "markdown",
   "id": "ff2325e0-29a7-4a25-863f-40da4fb3e682",
   "metadata": {},
   "source": [
    "### 4.2 Which category has the lowest and highest average rating? ###"
   ]
  },
  {
   "cell_type": "markdown",
   "id": "e57a5934-7db4-400f-b696-d88d8192d7b5",
   "metadata": {},
   "source": [
    "To solve this task, we could use sort_values() function.\n",
    "\n",
    "Since the average_ratings is a Series that consists of Categories (indexes) and Average Ratings (values), then by applying sort_values(), we sorts the average_ratings Series by its values (the average ratings) in ascending order by default."
   ]
  },
  {
   "cell_type": "code",
   "execution_count": 135,
   "id": "7d909447-f4ea-4109-bc51-d12d283c3043",
   "metadata": {},
   "outputs": [],
   "source": [
    "average_rating_sorted = average_ratings.sort_values()"
   ]
  },
  {
   "cell_type": "code",
   "execution_count": 137,
   "id": "7ea3ad5f-33a1-41ec-9a79-62400afa0571",
   "metadata": {},
   "outputs": [],
   "source": [
    "min_average_rating = average_rating_sorted.head(1)"
   ]
  },
  {
   "cell_type": "code",
   "execution_count": 139,
   "id": "4b0b55fc-ffb8-459c-ae6c-e877faa7bb74",
   "metadata": {},
   "outputs": [
    {
     "data": {
      "text/plain": [
       "Category\n",
       "DATING    3.970769\n",
       "Name: Rating, dtype: float64"
      ]
     },
     "execution_count": 139,
     "metadata": {},
     "output_type": "execute_result"
    }
   ],
   "source": [
    "min_average_rating"
   ]
  },
  {
   "cell_type": "code",
   "execution_count": 141,
   "id": "9158ff4b-df05-433f-8408-97f94e219d10",
   "metadata": {},
   "outputs": [],
   "source": [
    "max_average_rating = average_rating_sorted.tail(1)"
   ]
  },
  {
   "cell_type": "code",
   "execution_count": 143,
   "id": "eb430636-1691-4354-b47a-1c9218277c36",
   "metadata": {},
   "outputs": [
    {
     "data": {
      "text/plain": [
       "Category\n",
       "EVENTS    4.435556\n",
       "Name: Rating, dtype: float64"
      ]
     },
     "execution_count": 143,
     "metadata": {},
     "output_type": "execute_result"
    }
   ],
   "source": [
    "max_average_rating"
   ]
  },
  {
   "cell_type": "markdown",
   "id": "0ae698a7-2ac2-4b14-b592-b8f426849d2f",
   "metadata": {},
   "source": [
    "### 4.3 Group the data by Content Rating (e.g., Everyone, Teen) and calculate each group's median and sum number of installs. ###"
   ]
  },
  {
   "cell_type": "code",
   "execution_count": 146,
   "id": "aca08856-6bb9-4631-a8da-e7c733e6561c",
   "metadata": {},
   "outputs": [
    {
     "data": {
      "text/html": [
       "<div>\n",
       "<style scoped>\n",
       "    .dataframe tbody tr th:only-of-type {\n",
       "        vertical-align: middle;\n",
       "    }\n",
       "\n",
       "    .dataframe tbody tr th {\n",
       "        vertical-align: top;\n",
       "    }\n",
       "\n",
       "    .dataframe thead th {\n",
       "        text-align: right;\n",
       "    }\n",
       "</style>\n",
       "<table border=\"1\" class=\"dataframe\">\n",
       "  <thead>\n",
       "    <tr style=\"text-align: right;\">\n",
       "      <th></th>\n",
       "      <th>median</th>\n",
       "      <th>sum</th>\n",
       "    </tr>\n",
       "    <tr>\n",
       "      <th>Content Rating</th>\n",
       "      <th></th>\n",
       "      <th></th>\n",
       "    </tr>\n",
       "  </thead>\n",
       "  <tbody>\n",
       "    <tr>\n",
       "      <th>Adults only 18+</th>\n",
       "      <td>500000.0</td>\n",
       "      <td>2000000</td>\n",
       "    </tr>\n",
       "    <tr>\n",
       "      <th>Everyone</th>\n",
       "      <td>100000.0</td>\n",
       "      <td>114156659621</td>\n",
       "    </tr>\n",
       "    <tr>\n",
       "      <th>Everyone 10+</th>\n",
       "      <td>1000000.0</td>\n",
       "      <td>13233881795</td>\n",
       "    </tr>\n",
       "    <tr>\n",
       "      <th>Mature 17+</th>\n",
       "      <td>500000.0</td>\n",
       "      <td>5524491178</td>\n",
       "    </tr>\n",
       "    <tr>\n",
       "      <th>Teen</th>\n",
       "      <td>1000000.0</td>\n",
       "      <td>34716350393</td>\n",
       "    </tr>\n",
       "    <tr>\n",
       "      <th>Unrated</th>\n",
       "      <td>25250.0</td>\n",
       "      <td>50500</td>\n",
       "    </tr>\n",
       "  </tbody>\n",
       "</table>\n",
       "</div>"
      ],
      "text/plain": [
       "                    median           sum\n",
       "Content Rating                          \n",
       "Adults only 18+   500000.0       2000000\n",
       "Everyone          100000.0  114156659621\n",
       "Everyone 10+     1000000.0   13233881795\n",
       "Mature 17+        500000.0    5524491178\n",
       "Teen             1000000.0   34716350393\n",
       "Unrated            25250.0         50500"
      ]
     },
     "execution_count": 146,
     "metadata": {},
     "output_type": "execute_result"
    }
   ],
   "source": [
    "df.groupby(\"Content Rating\")[\"Installs\"].agg(['median', 'sum'])"
   ]
  },
  {
   "cell_type": "markdown",
   "id": "6dadf1eb-d527-4ea8-aee2-466f0975e426",
   "metadata": {},
   "source": [
    "## 5. New Column Creation ##"
   ]
  },
  {
   "cell_type": "markdown",
   "id": "b6b8af5f-7a62-48ea-84da-951aa137321c",
   "metadata": {},
   "source": [
    "### 5.1 Create a new column, Revenue Estimate for paid apps, by multiplying Price (convert to numeric) by Installs. "
   ]
  },
  {
   "cell_type": "markdown",
   "id": "4d36f6a7-4ad2-4e3f-8cd4-1dac333f673f",
   "metadata": {},
   "source": [
    "In this task, we did not filter the Apps by type firstly because it does not matter. Since the Price of Free Apps is 0.0, then Revenue Estimate would automatically get a revenue estimate of 0."
   ]
  },
  {
   "cell_type": "code",
   "execution_count": 150,
   "id": "48a12fa9-a5e1-4ae3-a1c2-f1530913ae16",
   "metadata": {},
   "outputs": [],
   "source": [
    "df[\"Revenue Estimation\"] = df[\"Price\"] * df[\"Installs\"]"
   ]
  },
  {
   "cell_type": "code",
   "execution_count": 154,
   "id": "69a4e41f-d23e-4e97-b4d9-75dfc676e429",
   "metadata": {},
   "outputs": [
    {
     "data": {
      "text/html": [
       "<div>\n",
       "<style scoped>\n",
       "    .dataframe tbody tr th:only-of-type {\n",
       "        vertical-align: middle;\n",
       "    }\n",
       "\n",
       "    .dataframe tbody tr th {\n",
       "        vertical-align: top;\n",
       "    }\n",
       "\n",
       "    .dataframe thead th {\n",
       "        text-align: right;\n",
       "    }\n",
       "</style>\n",
       "<table border=\"1\" class=\"dataframe\">\n",
       "  <thead>\n",
       "    <tr style=\"text-align: right;\">\n",
       "      <th></th>\n",
       "      <th>index</th>\n",
       "      <th>App</th>\n",
       "      <th>Category</th>\n",
       "      <th>Rating</th>\n",
       "      <th>Reviews</th>\n",
       "      <th>Size</th>\n",
       "      <th>Installs</th>\n",
       "      <th>Type</th>\n",
       "      <th>Price</th>\n",
       "      <th>Content Rating</th>\n",
       "      <th>Genres</th>\n",
       "      <th>Last Updated</th>\n",
       "      <th>Current Ver</th>\n",
       "      <th>Android Ver</th>\n",
       "      <th>Revenue Estimation</th>\n",
       "    </tr>\n",
       "  </thead>\n",
       "  <tbody>\n",
       "    <tr>\n",
       "      <th>234</th>\n",
       "      <td>234</td>\n",
       "      <td>TurboScan: scan documents and receipts in PDF</td>\n",
       "      <td>BUSINESS</td>\n",
       "      <td>4.7</td>\n",
       "      <td>11442</td>\n",
       "      <td>6.8M</td>\n",
       "      <td>100000</td>\n",
       "      <td>Paid</td>\n",
       "      <td>4.99</td>\n",
       "      <td>Everyone</td>\n",
       "      <td>Business</td>\n",
       "      <td>March 25, 2018</td>\n",
       "      <td>1.5.2</td>\n",
       "      <td>4.0 and up</td>\n",
       "      <td>499000.0</td>\n",
       "    </tr>\n",
       "    <tr>\n",
       "      <th>235</th>\n",
       "      <td>235</td>\n",
       "      <td>Tiny Scanner Pro: PDF Doc Scan</td>\n",
       "      <td>BUSINESS</td>\n",
       "      <td>4.8</td>\n",
       "      <td>10295</td>\n",
       "      <td>39M</td>\n",
       "      <td>100000</td>\n",
       "      <td>Paid</td>\n",
       "      <td>4.99</td>\n",
       "      <td>Everyone</td>\n",
       "      <td>Business</td>\n",
       "      <td>April 11, 2017</td>\n",
       "      <td>3.4.6</td>\n",
       "      <td>3.0 and up</td>\n",
       "      <td>499000.0</td>\n",
       "    </tr>\n",
       "    <tr>\n",
       "      <th>290</th>\n",
       "      <td>290</td>\n",
       "      <td>TurboScan: scan documents and receipts in PDF</td>\n",
       "      <td>BUSINESS</td>\n",
       "      <td>4.7</td>\n",
       "      <td>11442</td>\n",
       "      <td>6.8M</td>\n",
       "      <td>100000</td>\n",
       "      <td>Paid</td>\n",
       "      <td>4.99</td>\n",
       "      <td>Everyone</td>\n",
       "      <td>Business</td>\n",
       "      <td>March 25, 2018</td>\n",
       "      <td>1.5.2</td>\n",
       "      <td>4.0 and up</td>\n",
       "      <td>499000.0</td>\n",
       "    </tr>\n",
       "    <tr>\n",
       "      <th>291</th>\n",
       "      <td>291</td>\n",
       "      <td>Tiny Scanner Pro: PDF Doc Scan</td>\n",
       "      <td>BUSINESS</td>\n",
       "      <td>4.8</td>\n",
       "      <td>10295</td>\n",
       "      <td>39M</td>\n",
       "      <td>100000</td>\n",
       "      <td>Paid</td>\n",
       "      <td>4.99</td>\n",
       "      <td>Everyone</td>\n",
       "      <td>Business</td>\n",
       "      <td>April 11, 2017</td>\n",
       "      <td>3.4.6</td>\n",
       "      <td>3.0 and up</td>\n",
       "      <td>499000.0</td>\n",
       "    </tr>\n",
       "    <tr>\n",
       "      <th>427</th>\n",
       "      <td>427</td>\n",
       "      <td>Puffin Browser Pro</td>\n",
       "      <td>COMMUNICATION</td>\n",
       "      <td>4.0</td>\n",
       "      <td>18247</td>\n",
       "      <td>Varies with device</td>\n",
       "      <td>100000</td>\n",
       "      <td>Paid</td>\n",
       "      <td>3.99</td>\n",
       "      <td>Everyone</td>\n",
       "      <td>Communication</td>\n",
       "      <td>July 5, 2018</td>\n",
       "      <td>7.5.3.20547</td>\n",
       "      <td>4.1 and up</td>\n",
       "      <td>399000.0</td>\n",
       "    </tr>\n",
       "    <tr>\n",
       "      <th>...</th>\n",
       "      <td>...</td>\n",
       "      <td>...</td>\n",
       "      <td>...</td>\n",
       "      <td>...</td>\n",
       "      <td>...</td>\n",
       "      <td>...</td>\n",
       "      <td>...</td>\n",
       "      <td>...</td>\n",
       "      <td>...</td>\n",
       "      <td>...</td>\n",
       "      <td>...</td>\n",
       "      <td>...</td>\n",
       "      <td>...</td>\n",
       "      <td>...</td>\n",
       "      <td>...</td>\n",
       "    </tr>\n",
       "    <tr>\n",
       "      <th>10734</th>\n",
       "      <td>10735</td>\n",
       "      <td>FP VoiceBot</td>\n",
       "      <td>FAMILY</td>\n",
       "      <td>NaN</td>\n",
       "      <td>17</td>\n",
       "      <td>157k</td>\n",
       "      <td>100</td>\n",
       "      <td>Paid</td>\n",
       "      <td>0.99</td>\n",
       "      <td>Mature 17+</td>\n",
       "      <td>Entertainment</td>\n",
       "      <td>November 25, 2015</td>\n",
       "      <td>1.2</td>\n",
       "      <td>2.1 and up</td>\n",
       "      <td>99.0</td>\n",
       "    </tr>\n",
       "    <tr>\n",
       "      <th>10759</th>\n",
       "      <td>10760</td>\n",
       "      <td>Fast Tract Diet</td>\n",
       "      <td>HEALTH_AND_FITNESS</td>\n",
       "      <td>4.4</td>\n",
       "      <td>35</td>\n",
       "      <td>2.4M</td>\n",
       "      <td>1000</td>\n",
       "      <td>Paid</td>\n",
       "      <td>7.99</td>\n",
       "      <td>Everyone</td>\n",
       "      <td>Health &amp; Fitness</td>\n",
       "      <td>August 8, 2018</td>\n",
       "      <td>1.9.3</td>\n",
       "      <td>4.2 and up</td>\n",
       "      <td>7990.0</td>\n",
       "    </tr>\n",
       "    <tr>\n",
       "      <th>10781</th>\n",
       "      <td>10782</td>\n",
       "      <td>Trine 2: Complete Story</td>\n",
       "      <td>GAME</td>\n",
       "      <td>3.8</td>\n",
       "      <td>252</td>\n",
       "      <td>11M</td>\n",
       "      <td>10000</td>\n",
       "      <td>Paid</td>\n",
       "      <td>16.99</td>\n",
       "      <td>Teen</td>\n",
       "      <td>Action</td>\n",
       "      <td>February 27, 2015</td>\n",
       "      <td>2.22</td>\n",
       "      <td>5.0 and up</td>\n",
       "      <td>169900.0</td>\n",
       "    </tr>\n",
       "    <tr>\n",
       "      <th>10784</th>\n",
       "      <td>10785</td>\n",
       "      <td>sugar, sugar</td>\n",
       "      <td>FAMILY</td>\n",
       "      <td>4.2</td>\n",
       "      <td>1405</td>\n",
       "      <td>9.5M</td>\n",
       "      <td>10000</td>\n",
       "      <td>Paid</td>\n",
       "      <td>1.20</td>\n",
       "      <td>Everyone</td>\n",
       "      <td>Puzzle</td>\n",
       "      <td>June 5, 2018</td>\n",
       "      <td>2.7</td>\n",
       "      <td>2.3 and up</td>\n",
       "      <td>12000.0</td>\n",
       "    </tr>\n",
       "    <tr>\n",
       "      <th>10797</th>\n",
       "      <td>10798</td>\n",
       "      <td>Word Search Tab 1 FR</td>\n",
       "      <td>FAMILY</td>\n",
       "      <td>NaN</td>\n",
       "      <td>0</td>\n",
       "      <td>1020k</td>\n",
       "      <td>50</td>\n",
       "      <td>Paid</td>\n",
       "      <td>1.04</td>\n",
       "      <td>Everyone</td>\n",
       "      <td>Puzzle</td>\n",
       "      <td>February 6, 2012</td>\n",
       "      <td>1.1</td>\n",
       "      <td>3.0 and up</td>\n",
       "      <td>52.0</td>\n",
       "    </tr>\n",
       "  </tbody>\n",
       "</table>\n",
       "<p>790 rows × 15 columns</p>\n",
       "</div>"
      ],
      "text/plain": [
       "       index                                            App  \\\n",
       "234      234  TurboScan: scan documents and receipts in PDF   \n",
       "235      235                 Tiny Scanner Pro: PDF Doc Scan   \n",
       "290      290  TurboScan: scan documents and receipts in PDF   \n",
       "291      291                 Tiny Scanner Pro: PDF Doc Scan   \n",
       "427      427                             Puffin Browser Pro   \n",
       "...      ...                                            ...   \n",
       "10734  10735                                    FP VoiceBot   \n",
       "10759  10760                                Fast Tract Diet   \n",
       "10781  10782                        Trine 2: Complete Story   \n",
       "10784  10785                                   sugar, sugar   \n",
       "10797  10798                           Word Search Tab 1 FR   \n",
       "\n",
       "                 Category  Rating Reviews                Size  Installs  Type  \\\n",
       "234              BUSINESS     4.7   11442                6.8M    100000  Paid   \n",
       "235              BUSINESS     4.8   10295                 39M    100000  Paid   \n",
       "290              BUSINESS     4.7   11442                6.8M    100000  Paid   \n",
       "291              BUSINESS     4.8   10295                 39M    100000  Paid   \n",
       "427         COMMUNICATION     4.0   18247  Varies with device    100000  Paid   \n",
       "...                   ...     ...     ...                 ...       ...   ...   \n",
       "10734              FAMILY     NaN      17                157k       100  Paid   \n",
       "10759  HEALTH_AND_FITNESS     4.4      35                2.4M      1000  Paid   \n",
       "10781                GAME     3.8     252                 11M     10000  Paid   \n",
       "10784              FAMILY     4.2    1405                9.5M     10000  Paid   \n",
       "10797              FAMILY     NaN       0               1020k        50  Paid   \n",
       "\n",
       "       Price Content Rating            Genres       Last Updated  Current Ver  \\\n",
       "234     4.99       Everyone          Business     March 25, 2018        1.5.2   \n",
       "235     4.99       Everyone          Business     April 11, 2017        3.4.6   \n",
       "290     4.99       Everyone          Business     March 25, 2018        1.5.2   \n",
       "291     4.99       Everyone          Business     April 11, 2017        3.4.6   \n",
       "427     3.99       Everyone     Communication       July 5, 2018  7.5.3.20547   \n",
       "...      ...            ...               ...                ...          ...   \n",
       "10734   0.99     Mature 17+     Entertainment  November 25, 2015          1.2   \n",
       "10759   7.99       Everyone  Health & Fitness     August 8, 2018        1.9.3   \n",
       "10781  16.99           Teen            Action  February 27, 2015         2.22   \n",
       "10784   1.20       Everyone            Puzzle       June 5, 2018          2.7   \n",
       "10797   1.04       Everyone            Puzzle   February 6, 2012          1.1   \n",
       "\n",
       "      Android Ver  Revenue Estimation  \n",
       "234    4.0 and up            499000.0  \n",
       "235    3.0 and up            499000.0  \n",
       "290    4.0 and up            499000.0  \n",
       "291    3.0 and up            499000.0  \n",
       "427    4.1 and up            399000.0  \n",
       "...           ...                 ...  \n",
       "10734  2.1 and up                99.0  \n",
       "10759  4.2 and up              7990.0  \n",
       "10781  5.0 and up            169900.0  \n",
       "10784  2.3 and up             12000.0  \n",
       "10797  3.0 and up                52.0  \n",
       "\n",
       "[790 rows x 15 columns]"
      ]
     },
     "execution_count": 154,
     "metadata": {},
     "output_type": "execute_result"
    }
   ],
   "source": [
    "df[df[\"Revenue Estimation\"] > 0]"
   ]
  },
  {
   "cell_type": "markdown",
   "id": "3cc6015f-0265-48cf-b379-b40891b74d87",
   "metadata": {},
   "source": [
    "## 6. Visualization"
   ]
  },
  {
   "cell_type": "markdown",
   "id": "b66fac6b-b6f4-4a61-836c-989ab7cc22af",
   "metadata": {},
   "source": [
    "Firstly, we need to import the required libraries:"
   ]
  },
  {
   "cell_type": "code",
   "execution_count": 157,
   "id": "7ee1f31c-2b6c-4162-9ea4-05fea6ffbae5",
   "metadata": {},
   "outputs": [],
   "source": [
    "import matplotlib.pyplot as plt"
   ]
  },
  {
   "cell_type": "markdown",
   "id": "106dcbee-ce5b-4423-87c5-d9b1047d5c6f",
   "metadata": {},
   "source": [
    "### 6.1 Use matplotlib to create a histogram of app ratings. "
   ]
  },
  {
   "cell_type": "code",
   "execution_count": 170,
   "id": "afb7fa86-8159-4bea-b486-220e3d9ed7d7",
   "metadata": {},
   "outputs": [
    {
     "data": {
      "image/png": "[encoded data removed]",
      "text/plain": [
       "<Figure size 1000x600 with 1 Axes>"
      ]
     },
     "metadata": {},
     "output_type": "display_data"
    }
   ],
   "source": [
    "plt.figure(figsize=(10, 6))\n",
    "df['Rating'].plot(kind='hist', bins=20, color='skyblue', edgecolor='black')\n",
    "\n",
    "\n",
    "plt.xlabel('Rating')\n",
    "plt.ylabel('Number of Apps')\n",
    "plt.title('Histogram of App Ratings')\n",
    "\n",
    "plt.show()"
   ]
  },
  {
   "cell_type": "markdown",
   "id": "d45f4df1-7830-4feb-91dc-60d9962614e0",
   "metadata": {},
   "source": [
    "**Insights from the histogram**: The data points are skewed to right, which indicated a positive feedback amoing most users since the majority of apps have High Ratings (more than 4).\n",
    "Also now we are sure that the maximum value we get from the begining is just an oulier due to an error (shifting values of row 10471 to the left). Now the maximum rating value is 5 and the range is between 1 and 5."
   ]
  },
  {
   "cell_type": "markdown",
   "id": "3e3c1b95-b717-4560-9e1c-dcefc30f8acc",
   "metadata": {},
   "source": [
    "### 6.2 Create a bar plot showing the top 10 most common app categories. "
   ]
  },
  {
   "cell_type": "markdown",
   "id": "88c0f699-a144-438c-9cf0-d78173a6bff6",
   "metadata": {},
   "source": [
    "First we need to get the top 10 most common apps in terms of category:"
   ]
  },
  {
   "cell_type": "code",
   "execution_count": 175,
   "id": "a9905eb3-9b08-4ec7-9377-6e6ea7456a66",
   "metadata": {},
   "outputs": [],
   "source": [
    "top_categories = df['Category'].value_counts().head(10)"
   ]
  },
  {
   "cell_type": "code",
   "execution_count": 179,
   "id": "476b917d-d5c3-47ab-9a9d-a0a2b80fbef4",
   "metadata": {},
   "outputs": [
    {
     "data": {
      "image/png": "[encoded data removed]",
      "text/plain": [
       "<Figure size 1200x600 with 1 Axes>"
      ]
     },
     "metadata": {},
     "output_type": "display_data"
    }
   ],
   "source": [
    "plt.figure(figsize=(12, 6))\n",
    "top_categories.plot(kind='bar', color='lightcoral', edgecolor='black')\n",
    "\n",
    "plt.xlabel('Category')\n",
    "plt.ylabel('Number of Apps')\n",
    "plt.title('Top 10 Most Common App Categories')\n",
    "\n",
    "plt.xticks(rotation=45, ha='right')\n",
    "\n",
    "plt.show()"
   ]
  },
  {
   "cell_type": "markdown",
   "id": "33bd8174-62c8-4d00-a866-e85d2d9c243e",
   "metadata": {},
   "source": [
    "**Insights from the histogram**: From the bar plot above, we could notice the most common apps in terms of category are Family apps since there are around 2000 app of them. Next we have Games as the second most common kind of applications by a number around 1200 app."
   ]
  }
 ],
 "metadata": {
  "kernelspec": {
   "display_name": "Python [conda env:base] *",
   "language": "python",
   "name": "conda-base-py"
  },
  "language_info": {
   "codemirror_mode": {
    "name": "ipython",
    "version": 3
   },
   "file_extension": ".py",
   "mimetype": "text/x-python",
   "name": "python",
   "nbconvert_exporter": "python",
   "pygments_lexer": "ipython3",
   "version": "3.12.7"
  }
 },
 "nbformat": 4,
 "nbformat_minor": 5
}
